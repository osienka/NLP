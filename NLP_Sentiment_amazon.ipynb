{
  "nbformat": 4,
  "nbformat_minor": 0,
  "metadata": {
    "colab": {
      "name": "NLP_Sentiment_amazon.ipynb",
      "provenance": [],
      "collapsed_sections": [],
      "authorship_tag": "ABX9TyP0x94a1L6mBAr5blFJPI69",
      "include_colab_link": true
    },
    "kernelspec": {
      "name": "python3",
      "display_name": "Python 3"
    },
    "language_info": {
      "name": "python"
    },
    "accelerator": "GPU"
  },
  "cells": [
    {
      "cell_type": "markdown",
      "metadata": {
        "id": "view-in-github",
        "colab_type": "text"
      },
      "source": [
        "<a href=\"https://colab.research.google.com/github/osienka/NLP/blob/main/NLP_Sentiment_amazon.ipynb\" target=\"_parent\"><img src=\"https://colab.research.google.com/assets/colab-badge.svg\" alt=\"Open In Colab\"/></a>"
      ]
    },
    {
      "cell_type": "code",
      "execution_count": 1,
      "metadata": {
        "colab": {
          "base_uri": "https://localhost:8080/"
        },
        "id": "7y70T3Bos2nV",
        "outputId": "7abc8f82-4879-44f2-fe20-f88b95a4b861"
      },
      "outputs": [
        {
          "output_type": "stream",
          "name": "stdout",
          "text": [
            "TensorFlow 1.x selected.\n"
          ]
        },
        {
          "output_type": "stream",
          "name": "stderr",
          "text": [
            "Using TensorFlow backend.\n"
          ]
        }
      ],
      "source": [
        "%tensorflow_version 1.x\n",
        "import matplotlib.pyplot as plt\n",
        "import pandas as pd\n",
        "import re\n",
        "import string\n",
        "\n",
        "from sklearn.feature_extraction.text import CountVectorizer, TfidfVectorizer\n",
        "from sklearn.preprocessing import LabelEncoder, OneHotEncoder, OrdinalEncoder\n",
        "from sklearn.model_selection import train_test_split\n",
        "\n",
        "from keras.models import Sequential\n",
        "from keras.layers import Dense\n",
        "import keras\n",
        "\n",
        "def clean_data(text):\n",
        "  for i in range(len(text)):\n",
        "    text[i] = re.sub('\\w*\\d\\w*','', text[i])\n",
        "\n",
        "#\\w - alfanumeric, \\d - digit\n",
        "\n",
        "data = pd.read_csv(\"amazon.csv\")\n",
        "\n",
        "vectorizer = CountVectorizer(ngram_range = (1,3)).fit(data)\n",
        "X = vectorizer.fit_transform(data.iloc[:,0])"
      ]
    },
    {
      "cell_type": "code",
      "source": [
        "le = LabelEncoder()\n",
        "Y = le.fit_transform(data.iloc[:, 1])"
      ],
      "metadata": {
        "id": "5SXEBTgDyIGY"
      },
      "execution_count": 2,
      "outputs": []
    },
    {
      "cell_type": "code",
      "source": [
        "X.shape"
      ],
      "metadata": {
        "colab": {
          "base_uri": "https://localhost:8080/"
        },
        "id": "nhx9BEX-ywPY",
        "outputId": "0056f83b-37f9-4195-a21d-f0ffc135c2ea"
      },
      "execution_count": 3,
      "outputs": [
        {
          "output_type": "execute_result",
          "data": {
            "text/plain": [
              "(20000, 615126)"
            ]
          },
          "metadata": {},
          "execution_count": 3
        }
      ]
    },
    {
      "cell_type": "code",
      "source": [
        "Y.shape\n",
        "data.iloc[:, 1].value_counts()"
      ],
      "metadata": {
        "colab": {
          "base_uri": "https://localhost:8080/"
        },
        "id": "U9TcELrWy2lk",
        "outputId": "76c6e08d-166a-46bf-cd39-38faf56a5c62"
      },
      "execution_count": 4,
      "outputs": [
        {
          "output_type": "execute_result",
          "data": {
            "text/plain": [
              "1    15233\n",
              "0     4767\n",
              "Name: Positive, dtype: int64"
            ]
          },
          "metadata": {},
          "execution_count": 4
        }
      ]
    },
    {
      "cell_type": "code",
      "source": [
        "X_train, X_test, Y_train, Y_test = train_test_split(X, Y, test_size = 0.2, stratify = Y)\n",
        "\n",
        "# create model\n",
        "model = Sequential()\n",
        "model.add(Dense(1, input_dim=X.shape[1], activation='sigmoid'))\n",
        "\n",
        "# compile model\n",
        "model.compile(loss='binary_crossentropy', optimizer='adam', metrics=['accuracy'])\n",
        "\n",
        "# fit model\n",
        "mymodel = model.fit(X_train, Y_train, epochs=10, verbose=1, validation_split=0.2)\n"
      ],
      "metadata": {
        "colab": {
          "base_uri": "https://localhost:8080/"
        },
        "id": "Rmi0pVjfy4KG",
        "outputId": "47570b3d-f5ce-46b6-e180-8541a0a1bd8e"
      },
      "execution_count": 5,
      "outputs": [
        {
          "output_type": "stream",
          "name": "stdout",
          "text": [
            "WARNING:tensorflow:From /tensorflow-1.15.2/python3.7/tensorflow_core/python/ops/resource_variable_ops.py:1630: calling BaseResourceVariable.__init__ (from tensorflow.python.ops.resource_variable_ops) with constraint is deprecated and will be removed in a future version.\n",
            "Instructions for updating:\n",
            "If using Keras pass *_constraint arguments to layers.\n",
            "WARNING:tensorflow:From /tensorflow-1.15.2/python3.7/tensorflow_core/python/ops/nn_impl.py:183: where (from tensorflow.python.ops.array_ops) is deprecated and will be removed in a future version.\n",
            "Instructions for updating:\n",
            "Use tf.where in 2.0, which has the same broadcast rule as np.where\n",
            "WARNING:tensorflow:From /tensorflow-1.15.2/python3.7/keras/backend/tensorflow_backend.py:422: The name tf.global_variables is deprecated. Please use tf.compat.v1.global_variables instead.\n",
            "\n",
            "Train on 12800 samples, validate on 3200 samples\n",
            "Epoch 1/10\n",
            "12800/12800 [==============================] - 41s 3ms/step - loss: 0.4185 - accuracy: 0.8096 - val_loss: 0.3273 - val_accuracy: 0.8666\n",
            "Epoch 2/10\n",
            "12800/12800 [==============================] - 47s 4ms/step - loss: 0.1841 - accuracy: 0.9653 - val_loss: 0.2740 - val_accuracy: 0.8947\n",
            "Epoch 3/10\n",
            "12800/12800 [==============================] - 43s 3ms/step - loss: 0.1036 - accuracy: 0.9933 - val_loss: 0.2484 - val_accuracy: 0.9094\n",
            "Epoch 4/10\n",
            "12800/12800 [==============================] - 41s 3ms/step - loss: 0.0666 - accuracy: 0.9977 - val_loss: 0.2357 - val_accuracy: 0.9097\n",
            "Epoch 5/10\n",
            "12800/12800 [==============================] - 42s 3ms/step - loss: 0.0462 - accuracy: 0.9987 - val_loss: 0.2270 - val_accuracy: 0.9109\n",
            "Epoch 6/10\n",
            "12800/12800 [==============================] - 43s 3ms/step - loss: 0.0337 - accuracy: 0.9992 - val_loss: 0.2199 - val_accuracy: 0.9156\n",
            "Epoch 7/10\n",
            "12800/12800 [==============================] - 43s 3ms/step - loss: 0.0256 - accuracy: 0.9993 - val_loss: 0.2165 - val_accuracy: 0.9144\n",
            "Epoch 8/10\n",
            "12800/12800 [==============================] - 43s 3ms/step - loss: 0.0198 - accuracy: 0.9993 - val_loss: 0.2141 - val_accuracy: 0.9156\n",
            "Epoch 9/10\n",
            "12800/12800 [==============================] - 42s 3ms/step - loss: 0.0157 - accuracy: 0.9994 - val_loss: 0.2109 - val_accuracy: 0.9166\n",
            "Epoch 10/10\n",
            "12800/12800 [==============================] - 42s 3ms/step - loss: 0.0126 - accuracy: 0.9995 - val_loss: 0.2095 - val_accuracy: 0.9172\n"
          ]
        }
      ]
    },
    {
      "cell_type": "code",
      "source": [
        "# PLOT LOSS AND ACCURACY HISTORY\n",
        "def plot_loss_accuracy(loss, val_loss, acc, val_acc):\n",
        "    fig = plt.figure(figsize=(8, 4))\n",
        "    fig.suptitle('Log Loss and Accuracy over iterations')\n",
        "    \n",
        "    # add_subplot(rows, columns, index)\n",
        "    ax = fig.add_subplot(1, 2, 1)\n",
        "    ax.plot(loss)\n",
        "    ax.plot(val_loss)\n",
        "    ax.grid(True)\n",
        "    ax.set(xlabel='epochs', title='Log Loss')\n",
        "    ax.legend(['train', 'validation'], loc='upper right')\n",
        "    \n",
        "    ax = fig.add_subplot(1, 2, 2)\n",
        "    ax.plot(acc)\n",
        "    ax.plot(val_acc)\n",
        "    ax.grid(True)\n",
        "    ax.set(xlabel='epochs', title='Accuracy')\n",
        "    ax.legend(['train', 'validation'], loc='lower right')\n",
        "\n",
        "plot_loss_accuracy(mymodel.history['loss'], \n",
        "                   mymodel.history['val_loss'], \n",
        "                   mymodel.history['accuracy'], \n",
        "                   mymodel.history['val_accuracy']) \n",
        "\n",
        "# TEST THE MODEL\n",
        "loss, accuracy = model.evaluate(X_test, Y_test, verbose=0)\n",
        "print('Test loss:', loss)\n",
        "print('Test accuracy:', accuracy)"
      ],
      "metadata": {
        "colab": {
          "base_uri": "https://localhost:8080/",
          "height": 343
        },
        "id": "nHm8goq5zl8S",
        "outputId": "66b11fcc-a76a-4f52-c623-e251c58f0e90"
      },
      "execution_count": 6,
      "outputs": [
        {
          "output_type": "stream",
          "name": "stdout",
          "text": [
            "Test loss: 0.21951831030845642\n",
            "Test accuracy: 0.9114999771118164\n"
          ]
        },
        {
          "output_type": "display_data",
          "data": {
            "text/plain": [
              "<Figure size 576x288 with 2 Axes>"
            ],
            "image/png": "[encoded data removed]"
          },
          "metadata": {
            "needs_background": "light"
          }
        }
      ]
    },
    {
      "cell_type": "code",
      "source": [
        "# TEST THE MODEL\n",
        "# predict sentiment for a sentence (check the 'not' word)\n",
        "t = vectorizer.transform(['this was not good and not nice'])\n",
        "#t = vectorizer.transform(['this was good and nice'])\n",
        "res = model.predict(t)\n",
        "if res > 0.5:\n",
        "    print('positive')\n",
        "else: print('negative')\n",
        "\n",
        "# N-GRAMS OF NEGATIVE PREDICTIONS    \n",
        "# retrieve learned n-grams of 'negative' sentiment predictions from TEST DATASET\n",
        "predictions = model.predict(X_test)\n",
        "negatives = [i for i, res in enumerate(predictions) if res <0.5] # get indexes\n",
        "first_ten_negatives = negatives[:10]\n",
        "\n",
        "# iterate over 'first_ten_negatives' predictions from X_test (by index) \n",
        "# to retrieve the vector of the sentence (as 'doc')\n",
        "for i in first_ten_negatives:\n",
        "    doc = X_test[i].toarray().flatten()\n",
        "    tokens = []\n",
        "    # if a token (n-gram) is present in 'doc' then add it to the list 'tokens'\n",
        "    for j in range(len(doc)):\n",
        "        if doc[j] > 0:\n",
        "            tokens.append(vectorizer.get_feature_names_out()[j])\n",
        "    print(tokens,'\\n')"
      ],
      "metadata": {
        "colab": {
          "base_uri": "https://localhost:8080/"
        },
        "id": "1SmhWO2i3MoW",
        "outputId": "7b76f02f-9735-4613-bd2b-06843211d3ec"
      },
      "execution_count": 7,
      "outputs": [
        {
          "output_type": "stream",
          "name": "stdout",
          "text": [
            "negative\n",
            "['anything', 'anything finally', 'anything finally deleted', 'deleted', 'deleted it', 'deleted it ya', 'finally', 'finally deleted', 'finally deleted it', 'for', 'for me', 'get', 'get it', 'get it it', 'hate', 'hate it', 'hate it never', 'hate it period', 'it', 'it it', 'it it wont', 'it never', 'it never get', 'it period', 'it period hate', 'it wont', 'it wont let', 'it ya', 'it ya for', 'let', 'let record', 'let record anything', 'me', 'never', 'never get', 'never get it', 'period', 'period hate', 'period hate it', 'record', 'record anything', 'record anything finally', 'wont', 'wont let', 'wont let record', 'ya', 'ya for', 'ya for me'] \n",
            "\n",
            "['all', 'and', 'and forced', 'and forced closing', 'and it', 'and it performed', 'as', 'as the', 'as the free', 'as well', 'as well as', 'at', 'at all', 'closing', 'closing constant', 'closing constant issue', 'constant', 'constant issue', 'constant issue it', 'droid', 'droid x2', 'droid x2 and', 'forced', 'forced closing', 'forced closing constant', 'free', 'free version', 'free version not', 'go', 'go with', 'go with the', 'issue', 'issue it', 'issue it was', 'it', 'it performed', 'it performed as', 'it was', 'it was suggested', 'not', 'not at', 'not at all', 'old', 'old droid', 'old droid x2', 'on', 'on old', 'on old droid', 'performed', 'performed as', 'performed as well', 'pro', 'pro version', 'pro version and', 'suggested', 'suggested to', 'suggested to go', 'the', 'the free', 'the free version', 'the pro', 'the pro version', 'to', 'to go', 'to go with', 'to use', 'to use on', 'unable', 'unable to', 'unable to use', 'use', 'use on', 'use on old', 'version', 'version and', 'version and it', 'version not', 'version not at', 'was', 'was suggested', 'was suggested to', 'well', 'well as', 'well as the', 'with', 'with the', 'with the pro', 'x2', 'x2 and', 'x2 and forced'] \n",
            "\n",
            "['advance', 'advance in', 'advance in this', 'buy', 'buy gmes', 'buy gmes to', 'do', 'do not', 'do not have', 'game', 'game so', 'game so yeah', 'gmes', 'gmes to', 'gmes to advance', 'have', 'have to', 'have to buy', 'in', 'in this', 'in this game', 'know', 'know that', 'know that they', 'made', 'made my', 'made my point', 'my', 'my point', 'not', 'not have', 'not have to', 'people', 'people should', 'people should know', 'point', 'should', 'should know', 'should know that', 'so', 'so yeah', 'so yeah think', 'that', 'that they', 'that they do', 'they', 'they do', 'they do not', 'think', 'think made', 'think made my', 'this', 'this game', 'this game so', 'to', 'to advance', 'to advance in', 'to buy', 'to buy gmes', 'yeah', 'yeah think', 'yeah think made'] \n",
            "\n",
            "['and', 'and tracks', 'and tracks that', 'and you', 'and you get', 'both', 'both suck', 'but', 'but it', 'but it sucked', 'buy', 'buy the', 'buy the lite', 'cars', 'cars and', 'cars and tracks', 'don', 'don buy', 'don buy the', 'free', 'free but', 'free but it', 'get', 'get only', 'get only cars', 'get the', 'get the paid', 'god', 'god it', 'god it was', 'graphics', 'graphics suck', 'graphics suck its', 'handle', 'handle and', 'handle and you', 'hard', 'hard to', 'hard to handle', 'it', 'it sucked', 'it sucked get', 'it was', 'it was free', 'its', 'its hard', 'its hard to', 'lite', 'lite versian', 'lite versian thank', 'only', 'only cars', 'only cars and', 'paid', 'paid versian', 'paid versian the', 'suck', 'suck its', 'suck its hard', 'sucked', 'sucked get', 'sucked get the', 'thank', 'thank god', 'thank god it', 'that', 'that both', 'that both suck', 'the', 'the graphics', 'the graphics suck', 'the lite', 'the lite versian', 'the paid', 'the paid versian', 'to', 'to handle', 'to handle and', 'tracks', 'tracks that', 'tracks that both', 'versian', 'versian thank', 'versian thank god', 'versian the', 'versian the graphics', 'was', 'was free', 'was free but', 'you', 'you get', 'you get only'] \n",
            "\n",
            "['app', 'app is', 'app is so', 'app of', 'app of the', 'day', 'day lets', 'day lets send', 'developers', 'developers trying', 'developers trying to', 'ever', 'ever worth', 'ever worth the', 'folks', 'free', 'free price', 'free price tag', 'hard', 'hard working', 'hard working folks', 'is', 'is so', 'is so useless', 'lets', 'lets send', 'lets send message', 'message', 'message to', 'message to developers', 'not', 'not ever', 'not ever worth', 'of', 'of the', 'of the day', 'on', 'on app', 'on app of', 'price', 'price tag', 'price tag on', 'scam', 'scam hard', 'scam hard working', 'send', 'send message', 'send message to', 'so', 'so useless', 'so useless not', 'tag', 'tag on', 'tag on app', 'the', 'the day', 'the day lets', 'the free', 'the free price', 'this', 'this app', 'this app is', 'to', 'to developers', 'to developers trying', 'to scam', 'to scam hard', 'trying', 'trying to', 'trying to scam', 'useless', 'useless not', 'useless not ever', 'working', 'working folks', 'worth', 'worth the', 'worth the free'] \n",
            "\n",
            "['and', 'and download', 'and download uselessdeleted', 'as', 'as saw', 'as saw how', 'contacts', 'doesnt', 'doesnt work', 'doesnt work for', 'download', 'download uselessdeleted', 'download uselessdeleted it', 'for', 'for people', 'for people with', 'google', 'google contacts', 'how', 'how it', 'how it works', 'it', 'it doesnt', 'it doesnt work', 'it soon', 'it soon as', 'it works', 'it works meaning', 'meaning', 'meaning it', 'meaning it doesnt', 'of', 'of time', 'of time and', 'people', 'people with', 'people with google', 'saw', 'saw how', 'saw how it', 'so', 'so this', 'so this thin', 'soon', 'soon as', 'soon as saw', 'thin', 'thin was', 'thin was waste', 'this', 'this thin', 'this thin was', 'time', 'time and', 'time and download', 'uselessdeleted', 'uselessdeleted it', 'uselessdeleted it soon', 'was', 'was waste', 'was waste of', 'waste', 'waste of', 'waste of time', 'with', 'with google', 'with google contacts', 'work', 'work for', 'work for people', 'works', 'works meaning', 'works meaning it'] \n",
            "\n",
            "['actually', 'actually after', 'actually after levels', 'after', 'after levels', 'after levels the', 'and', 'and deleted', 'and deleted this', 'but', 'but actually', 'but actually after', 'buy', 'buy the', 'buy the full', 'company', 'company lied', 'company lied they', 'company prompts', 'company prompts you', 'delete', 'delete it', 'delete it and', 'deleted', 'deleted this', 'deleted this game', 'either', 'either buy', 'either buy the', 'full', 'full version', 'full version or', 'game', 'has', 'has unlimited', 'has unlimited play', 'it', 'it and', 'it and deleted', 'it has', 'it has unlimited', 'levels', 'levels the', 'levels the company', 'lied', 'lied they', 'lied they said', 'or', 'or delete', 'or delete it', 'play', 'play time', 'play time but', 'prompts', 'prompts you', 'prompts you to', 'said', 'said that', 'said that it', 'that', 'that it', 'that it has', 'the', 'the company', 'the company prompts', 'the full', 'the full version', 'they', 'they said', 'they said that', 'this', 'this company', 'this company lied', 'this game', 'time', 'time but', 'time but actually', 'to', 'to either', 'to either buy', 'unlimited', 'unlimited play', 'unlimited play time', 'version', 'version or', 'version or delete', 'you', 'you to', 'you to either'] \n",
            "\n",
            "['after', 'after it', 'after it finds', 'colors', 'colors them', 'colors them red', 'crashes', 'crashes useless', 'finds', 'finds incorrectly', 'finds incorrectly spelled', 'incorrectly', 'incorrectly spelled', 'incorrectly spelled words', 'it', 'it colors', 'it colors them', 'it crashes', 'it crashes useless', 'it finds', 'it finds incorrectly', 'on', 'on word', 'on word to', 'press', 'press on', 'press on word', 'red', 'red when', 'red when you', 'see', 'see the', 'see the suggestions', 'spelled', 'spelled words', 'spelled words it', 'suggestions', 'suggestions it', 'suggestions it crashes', 'the', 'the suggestions', 'the suggestions it', 'them', 'them red', 'them red when', 'to', 'to see', 'to see the', 'useless', 'when', 'when you', 'when you press', 'word', 'word to', 'word to see', 'words', 'words it', 'words it colors', 'you', 'you press', 'you press on'] \n",
            "\n",
            "['and', 'and it', 'and it told', 'and when', 'and when tried', 'as', 'as of', 'as of now', 'comment', 'comment on', 'comment on how', 'customer', 'customer so', 'customer so as', 'download', 'download it', 'download it the', 'download per', 'download per customer', 'downloaded', 'downloaded the', 'downloaded the program', 'error', 'error message', 'error message showed', 'have', 'have no', 'have no comment', 'how', 'how it', 'how it works', 'it', 'it error', 'it error message', 'it the', 'it the second', 'it told', 'it told me', 'it works', 'me', 'me only', 'me only one', 'message', 'message showed', 'message showed up', 'no', 'no comment', 'no comment on', 'now', 'now have', 'now have no', 'of', 'of now', 'of now have', 'on', 'on how', 'on how it', 'one', 'one download', 'one download per', 'only', 'only one', 'only one download', 'open', 'open it', 'open it error', 'per', 'per customer', 'per customer so', 'program', 'program and', 'program and when', 'second', 'second time', 'second time and', 'showed', 'showed up', 'showed up tried', 'so', 'so as', 'so as of', 'the', 'the program', 'the program and', 'the second', 'the second time', 'time', 'time and', 'time and it', 'to', 'to download', 'to download it', 'to open', 'to open it', 'told', 'told me', 'told me only', 'tried', 'tried to', 'tried to download', 'tried to open', 'up', 'up tried', 'up tried to', 'when', 'when tried', 'when tried to', 'works'] \n",
            "\n",
            "['all', 'all it', 'all it has', 'and', 'and tilt', 'and tilt it', 'deleting', 'deleting it', 'deleting it now', 'do', 'do you', 'do you scan', 'download', 'download it', 'download it it', 'hand', 'hand all', 'hand all it', 'hand and', 'hand and tilt', 'has', 'has is', 'has is picture', 'how', 'how do', 'how do you', 'is', 'is picture', 'is picture of', 'it', 'it deleting', 'it deleting it', 'it has', 'it has is', 'it it', 'it it sucks', 'it now', 'it now never', 'it sucks', 'it sucks how', 'never', 'never download', 'never download it', 'now', 'now never', 'now never download', 'of', 'of hand', 'of hand and', 'picture', 'picture of', 'picture of hand', 'scan', 'scan your', 'scan your hand', 'sucks', 'sucks how', 'sucks how do', 'tilt', 'tilt it', 'tilt it deleting', 'you', 'you scan', 'you scan your', 'your', 'your hand', 'your hand all'] \n",
            "\n"
          ]
        }
      ]
    }
  ]
}
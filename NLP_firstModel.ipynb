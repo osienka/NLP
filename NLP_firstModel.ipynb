{
  "nbformat": 4,
  "nbformat_minor": 0,
  "metadata": {
    "colab": {
      "name": "NLP_firstModel.ipynb",
      "provenance": []
    },
    "kernelspec": {
      "name": "python3",
      "display_name": "Python 3"
    },
    "language_info": {
      "name": "python"
    }
  },
  "cells": [
    {
      "cell_type": "code",
      "execution_count": null,
      "metadata": {
        "id": "PK5Qt8BEY9D3"
      },
      "outputs": [],
      "source": [
        "import matplotlib.pyplot as plt\n",
        "import numpy as np\n",
        "import pandas as pd\n",
        "from sklearn.preprocessing import LabelEncoder, OneHotEncoder, OrdinalEncoder\n",
        "from keras.models import Sequential\n",
        "from keras.layers import Dense\n",
        "from sklearn.model_selection import train_test_split"
      ]
    },
    {
      "cell_type": "code",
      "source": [
        "def load_dataset(filename):\n",
        "  data = pd.read_csv(filename)\n",
        "  X = data.iloc[:, :-1].to_numpy()\n",
        "  Y = data.iloc[:, -1].to_numpy()\n",
        "  return X,Y\n",
        "\n",
        "def encode_inputs(encoder, X):\n",
        "  enc = encoder()\n",
        "  enc.fit(X)\n",
        "  return enc.transform(X)\n",
        "\n",
        "X, Y = load_dataset(\"heart.csv\")\n",
        "X = encode_inputs(OneHotEncoder, X)\n",
        "#X.shape\n",
        "Y = encode_inputs(LabelEncoder,Y)\n",
        "X_train, X_test, Y_train, Y_test = train_test_split(X, Y, test_size=0.2)\n",
        "type(X_train)\n",
        "X_train = X_train.toarray()\n",
        "X_test = X_test.toarray()\n",
        "type(X_train)\n",
        "type(Y_train)"
      ],
      "metadata": {
        "colab": {
          "base_uri": "https://localhost:8080/"
        },
        "id": "UMG9zFVbZH0S",
        "outputId": "5b43b314-e4d2-45c2-e81b-fc199abbd022"
      },
      "execution_count": null,
      "outputs": [
        {
          "output_type": "execute_result",
          "data": {
            "text/plain": [
              "numpy.ndarray"
            ]
          },
          "metadata": {},
          "execution_count": 62
        }
      ]
    },
    {
      "cell_type": "code",
      "source": [
        "model = Sequential()\n",
        "model.add(Dense(10, input_dim=X_train.shape[1], activation='sigmoid'))\n",
        "model.add(Dense(1, activation='sigmoid'))\n",
        "\n",
        "model.compile(loss='binary_crossentropy',optimizer='adam',metrics=['accuracy'])\n",
        "mymodel = model.fit(X_train, Y_train, epochs = 50, verbose = 2, validation_split = 0.2)"
      ],
      "metadata": {
        "colab": {
          "base_uri": "https://localhost:8080/"
        },
        "id": "_oWQkCsAZ6Ag",
        "outputId": "93d72543-f1e1-4979-d2c4-5f0e642ee23b"
      },
      "execution_count": null,
      "outputs": [
        {
          "output_type": "stream",
          "name": "stdout",
          "text": [
            "Epoch 1/50\n",
            "19/19 - 1s - loss: 0.6781 - accuracy: 0.5520 - val_loss: 0.6620 - val_accuracy: 0.6054 - 953ms/epoch - 50ms/step\n",
            "Epoch 2/50\n",
            "19/19 - 0s - loss: 0.6522 - accuracy: 0.6286 - val_loss: 0.6403 - val_accuracy: 0.6803 - 119ms/epoch - 6ms/step\n",
            "Epoch 3/50\n",
            "19/19 - 0s - loss: 0.6285 - accuracy: 0.7462 - val_loss: 0.6191 - val_accuracy: 0.7483 - 98ms/epoch - 5ms/step\n",
            "Epoch 4/50\n",
            "19/19 - 0s - loss: 0.6056 - accuracy: 0.7973 - val_loss: 0.5995 - val_accuracy: 0.7619 - 86ms/epoch - 5ms/step\n",
            "Epoch 5/50\n",
            "19/19 - 0s - loss: 0.5834 - accuracy: 0.8484 - val_loss: 0.5808 - val_accuracy: 0.8231 - 103ms/epoch - 5ms/step\n",
            "Epoch 6/50\n",
            "19/19 - 0s - loss: 0.5616 - accuracy: 0.8722 - val_loss: 0.5631 - val_accuracy: 0.8299 - 99ms/epoch - 5ms/step\n",
            "Epoch 7/50\n",
            "19/19 - 0s - loss: 0.5409 - accuracy: 0.8739 - val_loss: 0.5444 - val_accuracy: 0.8367 - 106ms/epoch - 6ms/step\n",
            "Epoch 8/50\n",
            "19/19 - 0s - loss: 0.5205 - accuracy: 0.8807 - val_loss: 0.5274 - val_accuracy: 0.8299 - 91ms/epoch - 5ms/step\n",
            "Epoch 9/50\n",
            "19/19 - 0s - loss: 0.5011 - accuracy: 0.8876 - val_loss: 0.5122 - val_accuracy: 0.8231 - 89ms/epoch - 5ms/step\n",
            "Epoch 10/50\n",
            "19/19 - 0s - loss: 0.4826 - accuracy: 0.8859 - val_loss: 0.4968 - val_accuracy: 0.8367 - 107ms/epoch - 6ms/step\n",
            "Epoch 11/50\n",
            "19/19 - 0s - loss: 0.4650 - accuracy: 0.8927 - val_loss: 0.4828 - val_accuracy: 0.8299 - 103ms/epoch - 5ms/step\n",
            "Epoch 12/50\n",
            "19/19 - 0s - loss: 0.4485 - accuracy: 0.8927 - val_loss: 0.4703 - val_accuracy: 0.8231 - 86ms/epoch - 5ms/step\n",
            "Epoch 13/50\n",
            "19/19 - 0s - loss: 0.4334 - accuracy: 0.8927 - val_loss: 0.4574 - val_accuracy: 0.8231 - 97ms/epoch - 5ms/step\n",
            "Epoch 14/50\n",
            "19/19 - 0s - loss: 0.4197 - accuracy: 0.8927 - val_loss: 0.4474 - val_accuracy: 0.8231 - 97ms/epoch - 5ms/step\n",
            "Epoch 15/50\n",
            "19/19 - 0s - loss: 0.4055 - accuracy: 0.8927 - val_loss: 0.4374 - val_accuracy: 0.8163 - 95ms/epoch - 5ms/step\n",
            "Epoch 16/50\n",
            "19/19 - 0s - loss: 0.3932 - accuracy: 0.8927 - val_loss: 0.4279 - val_accuracy: 0.8163 - 89ms/epoch - 5ms/step\n",
            "Epoch 17/50\n",
            "19/19 - 0s - loss: 0.3816 - accuracy: 0.8944 - val_loss: 0.4193 - val_accuracy: 0.8163 - 92ms/epoch - 5ms/step\n",
            "Epoch 18/50\n",
            "19/19 - 0s - loss: 0.3706 - accuracy: 0.8961 - val_loss: 0.4117 - val_accuracy: 0.8231 - 92ms/epoch - 5ms/step\n",
            "Epoch 19/50\n",
            "19/19 - 0s - loss: 0.3605 - accuracy: 0.8961 - val_loss: 0.4046 - val_accuracy: 0.8231 - 91ms/epoch - 5ms/step\n",
            "Epoch 20/50\n",
            "19/19 - 0s - loss: 0.3510 - accuracy: 0.8995 - val_loss: 0.3985 - val_accuracy: 0.8299 - 91ms/epoch - 5ms/step\n",
            "Epoch 21/50\n",
            "19/19 - 0s - loss: 0.3424 - accuracy: 0.8995 - val_loss: 0.3928 - val_accuracy: 0.8231 - 108ms/epoch - 6ms/step\n",
            "Epoch 22/50\n",
            "19/19 - 0s - loss: 0.3342 - accuracy: 0.8995 - val_loss: 0.3879 - val_accuracy: 0.8231 - 101ms/epoch - 5ms/step\n",
            "Epoch 23/50\n",
            "19/19 - 0s - loss: 0.3267 - accuracy: 0.8995 - val_loss: 0.3832 - val_accuracy: 0.8299 - 91ms/epoch - 5ms/step\n",
            "Epoch 24/50\n",
            "19/19 - 0s - loss: 0.3196 - accuracy: 0.9012 - val_loss: 0.3797 - val_accuracy: 0.8299 - 81ms/epoch - 4ms/step\n",
            "Epoch 25/50\n",
            "19/19 - 0s - loss: 0.3131 - accuracy: 0.9012 - val_loss: 0.3761 - val_accuracy: 0.8367 - 93ms/epoch - 5ms/step\n",
            "Epoch 26/50\n",
            "19/19 - 0s - loss: 0.3067 - accuracy: 0.9012 - val_loss: 0.3725 - val_accuracy: 0.8367 - 110ms/epoch - 6ms/step\n",
            "Epoch 27/50\n",
            "19/19 - 0s - loss: 0.3007 - accuracy: 0.9012 - val_loss: 0.3699 - val_accuracy: 0.8367 - 244ms/epoch - 13ms/step\n",
            "Epoch 28/50\n",
            "19/19 - 0s - loss: 0.2952 - accuracy: 0.9029 - val_loss: 0.3674 - val_accuracy: 0.8435 - 207ms/epoch - 11ms/step\n",
            "Epoch 29/50\n",
            "19/19 - 0s - loss: 0.2899 - accuracy: 0.9029 - val_loss: 0.3649 - val_accuracy: 0.8503 - 117ms/epoch - 6ms/step\n",
            "Epoch 30/50\n",
            "19/19 - 0s - loss: 0.2847 - accuracy: 0.9029 - val_loss: 0.3631 - val_accuracy: 0.8435 - 116ms/epoch - 6ms/step\n",
            "Epoch 31/50\n",
            "19/19 - 0s - loss: 0.2801 - accuracy: 0.9063 - val_loss: 0.3615 - val_accuracy: 0.8435 - 55ms/epoch - 3ms/step\n",
            "Epoch 32/50\n",
            "19/19 - 0s - loss: 0.2755 - accuracy: 0.9080 - val_loss: 0.3601 - val_accuracy: 0.8435 - 80ms/epoch - 4ms/step\n",
            "Epoch 33/50\n",
            "19/19 - 0s - loss: 0.2710 - accuracy: 0.9080 - val_loss: 0.3589 - val_accuracy: 0.8435 - 82ms/epoch - 4ms/step\n",
            "Epoch 34/50\n",
            "19/19 - 0s - loss: 0.2667 - accuracy: 0.9097 - val_loss: 0.3583 - val_accuracy: 0.8435 - 80ms/epoch - 4ms/step\n",
            "Epoch 35/50\n",
            "19/19 - 0s - loss: 0.2629 - accuracy: 0.9131 - val_loss: 0.3576 - val_accuracy: 0.8435 - 79ms/epoch - 4ms/step\n",
            "Epoch 36/50\n",
            "19/19 - 0s - loss: 0.2588 - accuracy: 0.9148 - val_loss: 0.3573 - val_accuracy: 0.8435 - 61ms/epoch - 3ms/step\n",
            "Epoch 37/50\n",
            "19/19 - 0s - loss: 0.2547 - accuracy: 0.9165 - val_loss: 0.3564 - val_accuracy: 0.8435 - 76ms/epoch - 4ms/step\n",
            "Epoch 38/50\n",
            "19/19 - 0s - loss: 0.2514 - accuracy: 0.9199 - val_loss: 0.3559 - val_accuracy: 0.8435 - 64ms/epoch - 3ms/step\n",
            "Epoch 39/50\n",
            "19/19 - 0s - loss: 0.2478 - accuracy: 0.9182 - val_loss: 0.3551 - val_accuracy: 0.8435 - 72ms/epoch - 4ms/step\n",
            "Epoch 40/50\n",
            "19/19 - 0s - loss: 0.2440 - accuracy: 0.9199 - val_loss: 0.3546 - val_accuracy: 0.8435 - 83ms/epoch - 4ms/step\n",
            "Epoch 41/50\n",
            "19/19 - 0s - loss: 0.2405 - accuracy: 0.9199 - val_loss: 0.3546 - val_accuracy: 0.8435 - 74ms/epoch - 4ms/step\n",
            "Epoch 42/50\n",
            "19/19 - 0s - loss: 0.2371 - accuracy: 0.9233 - val_loss: 0.3546 - val_accuracy: 0.8435 - 65ms/epoch - 3ms/step\n",
            "Epoch 43/50\n",
            "19/19 - 0s - loss: 0.2341 - accuracy: 0.9216 - val_loss: 0.3551 - val_accuracy: 0.8435 - 77ms/epoch - 4ms/step\n",
            "Epoch 44/50\n",
            "19/19 - 0s - loss: 0.2307 - accuracy: 0.9250 - val_loss: 0.3551 - val_accuracy: 0.8367 - 57ms/epoch - 3ms/step\n",
            "Epoch 45/50\n",
            "19/19 - 0s - loss: 0.2274 - accuracy: 0.9250 - val_loss: 0.3556 - val_accuracy: 0.8435 - 70ms/epoch - 4ms/step\n",
            "Epoch 46/50\n",
            "19/19 - 0s - loss: 0.2244 - accuracy: 0.9267 - val_loss: 0.3558 - val_accuracy: 0.8435 - 70ms/epoch - 4ms/step\n",
            "Epoch 47/50\n",
            "19/19 - 0s - loss: 0.2214 - accuracy: 0.9267 - val_loss: 0.3561 - val_accuracy: 0.8367 - 76ms/epoch - 4ms/step\n",
            "Epoch 48/50\n",
            "19/19 - 0s - loss: 0.2184 - accuracy: 0.9267 - val_loss: 0.3565 - val_accuracy: 0.8367 - 72ms/epoch - 4ms/step\n",
            "Epoch 49/50\n",
            "19/19 - 0s - loss: 0.2155 - accuracy: 0.9267 - val_loss: 0.3570 - val_accuracy: 0.8367 - 54ms/epoch - 3ms/step\n",
            "Epoch 50/50\n",
            "19/19 - 0s - loss: 0.2126 - accuracy: 0.9284 - val_loss: 0.3577 - val_accuracy: 0.8367 - 56ms/epoch - 3ms/step\n"
          ]
        }
      ]
    },
    {
      "cell_type": "code",
      "source": [
        "# PLOT LOSS AND ACCURACY HISTORY\n",
        "def plot_loss_accuracy(loss, val_loss, acc, val_acc):\n",
        "    fig = plt.figure(figsize=(8, 4))\n",
        "    fig.suptitle('Log Loss and Accuracy over iterations')\n",
        "    \n",
        "    # add_subplot(rows, columns, index)\n",
        "    ax = fig.add_subplot(1, 2, 1)\n",
        "    ax.plot(loss)\n",
        "    ax.plot(val_loss)\n",
        "    ax.grid(True)\n",
        "    ax.set(xlabel='epochs', title='Log Loss')\n",
        "    ax.legend(['train', 'validation'], loc='upper right')\n",
        "    \n",
        "    ax = fig.add_subplot(1, 2, 2)\n",
        "    ax.plot(acc)\n",
        "    ax.plot(val_acc)\n",
        "    ax.grid(True)\n",
        "    ax.set(xlabel='epochs', title='Accuracy')\n",
        "    ax.legend(['train', 'validation'], loc='lower right')\n",
        "\n",
        "plot_loss_accuracy(mymodel.history['loss'], \n",
        "                   mymodel.history['val_loss'], \n",
        "                   mymodel.history['accuracy'], \n",
        "                   mymodel.history['val_accuracy']) \n",
        "\n",
        "# TEST THE MODEL\n",
        "loss, accuracy = model.evaluate(X_test, Y_test, verbose=0)\n",
        "print('Test loss:', loss)\n",
        "print('Test accuracy:', accuracy)"
      ],
      "metadata": {
        "colab": {
          "base_uri": "https://localhost:8080/",
          "height": 239
        },
        "id": "_skBbaGRZepc",
        "outputId": "b2a6c81c-c481-45b9-dcd1-033e725b465a"
      },
      "execution_count": null,
      "outputs": [
        {
          "output_type": "error",
          "ename": "KeyError",
          "evalue": "ignored",
          "traceback": [
            "\u001b[0;31m---------------------------------------------------------------------------\u001b[0m",
            "\u001b[0;31mKeyError\u001b[0m                                  Traceback (most recent call last)",
            "\u001b[0;32m<ipython-input-41-afe53ba2ecc9>\u001b[0m in \u001b[0;36m<module>\u001b[0;34m()\u001b[0m\n\u001b[1;32m     20\u001b[0m \u001b[0;34m\u001b[0m\u001b[0m\n\u001b[1;32m     21\u001b[0m plot_loss_accuracy(mymodel.history['loss'], \n\u001b[0;32m---> 22\u001b[0;31m                    \u001b[0mmymodel\u001b[0m\u001b[0;34m.\u001b[0m\u001b[0mhistory\u001b[0m\u001b[0;34m[\u001b[0m\u001b[0;34m'val_loss'\u001b[0m\u001b[0;34m]\u001b[0m\u001b[0;34m,\u001b[0m\u001b[0;34m\u001b[0m\u001b[0;34m\u001b[0m\u001b[0m\n\u001b[0m\u001b[1;32m     23\u001b[0m                    \u001b[0mmymodel\u001b[0m\u001b[0;34m.\u001b[0m\u001b[0mhistory\u001b[0m\u001b[0;34m[\u001b[0m\u001b[0;34m'accuracy'\u001b[0m\u001b[0;34m]\u001b[0m\u001b[0;34m,\u001b[0m\u001b[0;34m\u001b[0m\u001b[0;34m\u001b[0m\u001b[0m\n\u001b[1;32m     24\u001b[0m                    mymodel.history['val_accuracy']) \n",
            "\u001b[0;31mKeyError\u001b[0m: 'val_loss'"
          ]
        }
      ]
    },
    {
      "cell_type": "code",
      "source": [
        ""
      ],
      "metadata": {
        "id": "_s5TxlQ5kSy-"
      },
      "execution_count": null,
      "outputs": []
    }
  ]
}
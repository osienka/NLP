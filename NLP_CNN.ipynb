{
  "nbformat": 4,
  "nbformat_minor": 0,
  "metadata": {
    "colab": {
      "name": "NLP_CNN.ipynb",
      "provenance": [],
      "collapsed_sections": [],
      "authorship_tag": "ABX9TyNCgaOW2HGgf7GjRJdWDi1b",
      "include_colab_link": true
    },
    "kernelspec": {
      "name": "python3",
      "display_name": "Python 3"
    },
    "language_info": {
      "name": "python"
    }
  },
  "cells": [
    {
      "cell_type": "markdown",
      "metadata": {
        "id": "view-in-github",
        "colab_type": "text"
      },
      "source": [
        "<a href=\"https://colab.research.google.com/github/osienka/NLP/blob/main/NLP_CNN.ipynb\" target=\"_parent\"><img src=\"https://colab.research.google.com/assets/colab-badge.svg\" alt=\"Open In Colab\"/></a>"
      ]
    },
    {
      "cell_type": "code",
      "source": [
        "import os\n",
        "from keras.preprocessing.image import ImageDataGenerator\n",
        "import numpy as np\n",
        "import pandas as pd\n",
        "import sys\n",
        "import matplotlib.pyplot as plt\n",
        "import numpy as np\n",
        "import tensorflow as tf\n",
        "from keras.preprocessing.image import load_img\n",
        "to_categorical = tf.keras.utils.to_categorical\n",
        "\n",
        "from os import listdir\n",
        "from os.path import join\n",
        "\n",
        "from keras.models import Sequential\n",
        "from keras.layers import Dense, Flatten, Conv2D, MaxPooling2D\n",
        "\n",
        "from sklearn.model_selection import train_test_split"
      ],
      "metadata": {
        "id": "_zlxPdrEf0C_"
      },
      "execution_count": 1,
      "outputs": []
    },
    {
      "cell_type": "code",
      "execution_count": 5,
      "metadata": {
        "colab": {
          "base_uri": "https://localhost:8080/"
        },
        "id": "LN-B47oEeiGD",
        "outputId": "fd197368-10c7-4efd-c7c7-00d48faca6f1"
      },
      "outputs": [
        {
          "output_type": "stream",
          "name": "stdout",
          "text": [
            "Mounted at /content/drive\n"
          ]
        }
      ],
      "source": [
        "from google.colab import drive\n",
        "drive.mount(\"/content/drive\", force_remount=True)"
      ]
    },
    {
      "cell_type": "code",
      "source": [
        "\"\"\"conv = []\n",
        "files = os.listdir('drive/MyDrive/dataset/1/')\n",
        "print(\"Liczebność klasy 1:\",len(files))\n",
        "for file in files:\n",
        "  path = os.path.join('drive/MyDrive/dataset/1/', file)\n",
        "  img = load_img(path, color_mode='grayscale')\n",
        "  img_arr = np.asarray(img)\n",
        "  conv.append(img_arr)\n",
        "l1 = np.ones(len(files))\n",
        "files = os.listdir('drive/MyDrive/dataset/2/')\n",
        "print(\"Liczebność klasy 2:\",len(files))\n",
        "for file in files:\n",
        "  path = os.path.join('drive/MyDrive/dataset/2/', file)\n",
        "  img = load_img(path, color_mode='grayscale')\n",
        "  img_arr = np.asarray(img)\n",
        "  conv.append(img_arr)\n",
        "l2 = np.append(l1,np.full(shape=len(files), fill_value=2))\n",
        "files = os.listdir('drive/MyDrive/dataset/0/')\n",
        "print(\"Liczebność klasy 0:\",len(files))\n",
        "for file in files:\n",
        "  path = os.path.join('drive/MyDrive/dataset/0/', file)\n",
        "  img = load_img(path, color_mode='grayscale')\n",
        "  img_arr = np.asarray(img)\n",
        "  conv.append(img_arr)\n",
        "l3 = np.append(l2,np.full(shape=len(files), fill_value=2))\n",
        "files = os.listdir('drive/MyDrive/dataset/3/')\n",
        "print(\"Liczebność klasy 0:\",len(files))\n",
        "for file in files:\n",
        "  path = os.path.join('drive/MyDrive/dataset/3/', file)\n",
        "  img = load_img(path, color_mode='grayscale')\n",
        "  img_arr = np.asarray(img)\n",
        "  conv.append(img_arr)\n",
        "Y = np.append(l3, np.full(shape=len(files), fill_value=3))\n",
        "X = np.array(conv)\n",
        "X_train, X_test, Y_train, Y_test = train_test_split(X, Y, test_size = 0.2)\n",
        "print(\"Training data shape before reshaping:\", X_train.shape)\n",
        "\n",
        "X_train = X_train.reshape(X_train.shape+(-1,))\n",
        "X_test = X_test.reshape(X_test.shape+(-1,))\n",
        "\n",
        "print(\"Training data shape after reshaping:\", X_train.shape)\n",
        "\n",
        "maxValue = np.amax(X_train)\n",
        "print(\"Maximum value in training data:\",maxValue)\n",
        "\n",
        "X_train = X_train/225\n",
        "X_test = X_test/225\n",
        "\n",
        "print(\"Original label encoding:\",Y_train[0], \"shape:\", Y_train.shape)\n",
        "depth = 4\n",
        "\n",
        "Y_train = tf.one_hot(Y_train, depth)\n",
        "Y_test = tf.one_hot(Y_test, depth)\n",
        "\n",
        "print(\"One hot label encoding for training data:\", Y_train[0], \"shape:\", Y_train.shape)\n",
        "print(\"One hot label encoding for test data:\",Y_test[0], \"shape:\", Y_test.shape)\"\"\""
      ],
      "metadata": {
        "colab": {
          "base_uri": "https://localhost:8080/",
          "height": 141
        },
        "id": "iVPAcqSnhKh5",
        "outputId": "5c04d0ff-6dd6-48c9-8e24-a6fcc829e660"
      },
      "execution_count": 3,
      "outputs": [
        {
          "output_type": "execute_result",
          "data": {
            "text/plain": [
              "'conv = []\\nfiles = os.listdir(\\'drive/MyDrive/dataset/1/\\')\\nprint(\"Liczebność klasy 1:\",len(files))\\nfor file in files:\\n  path = os.path.join(\\'drive/MyDrive/dataset/1/\\', file)\\n  img = load_img(path, color_mode=\\'grayscale\\')\\n  img_arr = np.asarray(img)\\n  conv.append(img_arr)\\nl1 = np.ones(len(files))\\nfiles = os.listdir(\\'drive/MyDrive/dataset/2/\\')\\nprint(\"Liczebność klasy 2:\",len(files))\\nfor file in files:\\n  path = os.path.join(\\'drive/MyDrive/dataset/2/\\', file)\\n  img = load_img(path, color_mode=\\'grayscale\\')\\n  img_arr = np.asarray(img)\\n  conv.append(img_arr)\\nl2 = np.append(l1,np.full(shape=len(files), fill_value=2))\\nfiles = os.listdir(\\'drive/MyDrive/dataset/0/\\')\\nprint(\"Liczebność klasy 0:\",len(files))\\nfor file in files:\\n  path = os.path.join(\\'drive/MyDrive/dataset/0/\\', file)\\n  img = load_img(path, color_mode=\\'grayscale\\')\\n  img_arr = np.asarray(img)\\n  conv.append(img_arr)\\nl3 = np.append(l2,np.full(shape=len(files), fill_value=2))\\nfiles = os.listdir(\\'drive/MyDrive/dataset/3/\\')\\nprint(\"Liczebność klasy 0:\",len(files))\\nfor file in files:\\n  path = os.path.join(\\'drive/MyDrive/dataset/3/\\', file)\\n  img = load_img(path, color_mode=\\'grayscale\\')\\n  img_arr = np.asarray(img)\\n  conv.append(img_arr)\\nY = np.append(l3, np.full(shape=len(files), fill_value=3))\\nX = np.array(conv)\\nX_train, X_test, Y_train, Y_test = train_test_split(X, Y, test_size = 0.2)\\nprint(\"Training data shape before reshaping:\", X_train.shape)\\n\\nX_train = X_train.reshape(X_train.shape+(-1,))\\nX_test = X_test.reshape(X_test.shape+(-1,))\\n\\nprint(\"Training data shape after reshaping:\", X_train.shape)\\n\\nmaxValue = np.amax(X_train)\\nprint(\"Maximum value in training data:\",maxValue)\\n\\nX_train = X_train/225\\nX_test = X_test/225\\n\\nprint(\"Original label encoding:\",Y_train[0], \"shape:\", Y_train.shape)\\ndepth = 4\\n\\nY_train = tf.one_hot(Y_train, depth)\\nY_test = tf.one_hot(Y_test, depth)\\n\\nprint(\"One hot label encoding for training data:\", Y_train[0], \"shape:\", Y_train.shape)\\nprint(\"One hot label encoding for test data:\",Y_test[0], \"shape:\", Y_test.shape)'"
            ],
            "application/vnd.google.colaboratory.intrinsic+json": {
              "type": "string"
            }
          },
          "metadata": {},
          "execution_count": 3
        }
      ]
    },
    {
      "cell_type": "code",
      "source": [
        "def load_data(folder, height, width, color):    \n",
        "\n",
        "    #load images from 'folder' which contains subfolders as labels\n",
        "    #returns vectors X (inputs) and Y (labels) ready for training/testing\n",
        "    # list of all subfolders but hidden files\n",
        "    list_labels = [f for f in listdir(folder) if not f.startswith('.')]\n",
        "\n",
        "    X = [] # vector of inputs\n",
        "    Y = [] # vector of labels\n",
        "\n",
        "    for label in list_labels:\n",
        "        current_dir = join(folder, label)\n",
        "        for img_file in listdir(current_dir):\n",
        "            if not img_file.startswith('.'):\n",
        "                img = load_img(join(current_dir, img_file), color_mode=color, target_size=(height, width))\n",
        "                X.append(np.array(img)/255)\n",
        "                Y.append(int(label))\n",
        "\n",
        "    X = np.array(X).reshape(-1, height, width, 1) # (N, height, width, channel)           \n",
        "    Y = to_categorical(Y, len(list_labels)) # one hot encoding\n",
        "    return X, Y  \n",
        "\n",
        "\n",
        "# Define the size of the image and the color\n",
        "height = 45 \n",
        "width = 60 \n",
        "color = 'grayscale'\n",
        "\n",
        "# Load and transform images\n",
        "X, Y = load_data('drive/MyDrive/dataset', height, width, color)"
      ],
      "metadata": {
        "id": "aTYLC7mVulNY"
      },
      "execution_count": 8,
      "outputs": []
    },
    {
      "cell_type": "code",
      "source": [
        "model = Sequential()\n",
        "model.add(Conv2D(32,(5,5), activation = \"relu\", input_shape=(45,60,1),name=\"layer_1\"))\n",
        "model.add(MaxPooling2D((3,3), name=\"layer_2\"))\n",
        "model.add(Conv2D(64,(5,5), activation = \"relu\",name=\"layer_3\"))\n",
        "model.add(MaxPooling2D((3,3), name=\"layer_4\"))\n",
        "model.add(Flatten(name=\"layer_5\"))\n",
        "model.add(Dense(4, activation = \"softmax\", name=\"layer_6\"))\n",
        "\n",
        "model.summary()"
      ],
      "metadata": {
        "colab": {
          "base_uri": "https://localhost:8080/"
        },
        "id": "xhi6EcQsjRxV",
        "outputId": "4cf6f289-343e-4b63-83c9-cd5b6a2c1d56"
      },
      "execution_count": 9,
      "outputs": [
        {
          "output_type": "stream",
          "name": "stdout",
          "text": [
            "Model: \"sequential\"\n",
            "_________________________________________________________________\n",
            " Layer (type)                Output Shape              Param #   \n",
            "=================================================================\n",
            " layer_1 (Conv2D)            (None, 41, 56, 32)        832       \n",
            "                                                                 \n",
            " layer_2 (MaxPooling2D)      (None, 13, 18, 32)        0         \n",
            "                                                                 \n",
            " layer_3 (Conv2D)            (None, 9, 14, 64)         51264     \n",
            "                                                                 \n",
            " layer_4 (MaxPooling2D)      (None, 3, 4, 64)          0         \n",
            "                                                                 \n",
            " layer_5 (Flatten)           (None, 768)               0         \n",
            "                                                                 \n",
            " layer_6 (Dense)             (None, 4)                 3076      \n",
            "                                                                 \n",
            "=================================================================\n",
            "Total params: 55,172\n",
            "Trainable params: 55,172\n",
            "Non-trainable params: 0\n",
            "_________________________________________________________________\n"
          ]
        }
      ]
    },
    {
      "cell_type": "code",
      "source": [
        "model.compile(loss = 'categorical_crossentropy', optimizer = 'adam', metrics = ['accuracy'])\n",
        "\n",
        "# split into train and test sets\n",
        "X_train, X_test, Y_train, Y_test = train_test_split(X, Y, test_size = 0.2)\n",
        "\n",
        "model.compile(loss = 'categorical_crossentropy', optimizer = 'adam', metrics = ['accuracy'])"
      ],
      "metadata": {
        "id": "Mg9KfSDQpDDz"
      },
      "execution_count": 12,
      "outputs": []
    },
    {
      "cell_type": "code",
      "source": [
        "# Save training to 'mymodel'\n",
        "mymodel = model.fit(X_train, Y_train, epochs = 30, validation_split = 0.2)\n",
        "\n",
        "# PLOT LOSS AND ACCURACY HISTORY\n",
        "def plot_loss_accuracy(loss, val_loss, acc, val_acc):\n",
        "    fig = plt.figure(figsize=(8, 4))\n",
        "    fig.suptitle('Loss and Accuracy over iterations')\n",
        "    \n",
        "    # add_subplot(nrows, ncolumns, index)\n",
        "    ax = fig.add_subplot(1, 2, 1)\n",
        "    ax.plot(loss)\n",
        "    ax.plot(val_loss)\n",
        "    ax.grid(True)\n",
        "    ax.set(xlabel='epochs', title='Loss')\n",
        "    ax.legend(['train', 'validation'], loc='upper right')\n",
        "    \n",
        "    ax = fig.add_subplot(1, 2, 2)\n",
        "    ax.plot(acc)\n",
        "    ax.plot(val_acc)\n",
        "    ax.grid(True)\n",
        "    ax.set(xlabel='epochs', title='Accuracy')\n",
        "    ax.legend(['train', 'validation'], loc='lower right')\n",
        "\n",
        "plot_loss_accuracy(mymodel.history['loss'], \n",
        "                   mymodel.history['val_loss'], \n",
        "                   mymodel.history['accuracy'], \n",
        "                   mymodel.history['val_accuracy'])\n",
        "\n",
        "# TEST MODEL\n",
        "loss, accuracy = model.evaluate(X_test, Y_test, verbose=0)\n",
        "print('Test loss:', loss)\n",
        "print('Test accuracy:', accuracy)"
      ],
      "metadata": {
        "colab": {
          "base_uri": "https://localhost:8080/",
          "height": 1000
        },
        "id": "D3eMapptvhnG",
        "outputId": "66f7695f-978e-4102-c3e6-ff6e1862987a"
      },
      "execution_count": 13,
      "outputs": [
        {
          "output_type": "stream",
          "name": "stdout",
          "text": [
            "Epoch 1/30\n",
            "5/5 [==============================] - 2s 141ms/step - loss: 1.4067 - accuracy: 0.2000 - val_loss: 1.3904 - val_accuracy: 0.1111\n",
            "Epoch 2/30\n",
            "5/5 [==============================] - 0s 94ms/step - loss: 1.3263 - accuracy: 0.3357 - val_loss: 1.2734 - val_accuracy: 0.5556\n",
            "Epoch 3/30\n",
            "5/5 [==============================] - 0s 89ms/step - loss: 1.2210 - accuracy: 0.6286 - val_loss: 1.1773 - val_accuracy: 0.6111\n",
            "Epoch 4/30\n",
            "5/5 [==============================] - 0s 87ms/step - loss: 1.1309 - accuracy: 0.6429 - val_loss: 1.0761 - val_accuracy: 0.8056\n",
            "Epoch 5/30\n",
            "5/5 [==============================] - 0s 90ms/step - loss: 1.0061 - accuracy: 0.8357 - val_loss: 0.9293 - val_accuracy: 0.8333\n",
            "Epoch 6/30\n",
            "5/5 [==============================] - 0s 89ms/step - loss: 0.8864 - accuracy: 0.8143 - val_loss: 0.8473 - val_accuracy: 0.8056\n",
            "Epoch 7/30\n",
            "5/5 [==============================] - 0s 91ms/step - loss: 0.7353 - accuracy: 0.8643 - val_loss: 0.6439 - val_accuracy: 0.9167\n",
            "Epoch 8/30\n",
            "5/5 [==============================] - 0s 98ms/step - loss: 0.6191 - accuracy: 0.8786 - val_loss: 0.6163 - val_accuracy: 0.8333\n",
            "Epoch 9/30\n",
            "5/5 [==============================] - 1s 175ms/step - loss: 0.5428 - accuracy: 0.8643 - val_loss: 0.4907 - val_accuracy: 0.8889\n",
            "Epoch 10/30\n",
            "5/5 [==============================] - 1s 167ms/step - loss: 0.4480 - accuracy: 0.9000 - val_loss: 0.4191 - val_accuracy: 0.9167\n",
            "Epoch 11/30\n",
            "5/5 [==============================] - 1s 178ms/step - loss: 0.3645 - accuracy: 0.9214 - val_loss: 0.4233 - val_accuracy: 0.8889\n",
            "Epoch 12/30\n",
            "5/5 [==============================] - 1s 135ms/step - loss: 0.3168 - accuracy: 0.9143 - val_loss: 0.3308 - val_accuracy: 0.9167\n",
            "Epoch 13/30\n",
            "5/5 [==============================] - 0s 96ms/step - loss: 0.2613 - accuracy: 0.9500 - val_loss: 0.3697 - val_accuracy: 0.8611\n",
            "Epoch 14/30\n",
            "5/5 [==============================] - 0s 94ms/step - loss: 0.2301 - accuracy: 0.9429 - val_loss: 0.2672 - val_accuracy: 0.9444\n",
            "Epoch 15/30\n",
            "5/5 [==============================] - 0s 99ms/step - loss: 0.1996 - accuracy: 0.9571 - val_loss: 0.2420 - val_accuracy: 0.9167\n",
            "Epoch 16/30\n",
            "5/5 [==============================] - 0s 91ms/step - loss: 0.1761 - accuracy: 0.9643 - val_loss: 0.2869 - val_accuracy: 0.8889\n",
            "Epoch 17/30\n",
            "5/5 [==============================] - 0s 93ms/step - loss: 0.1470 - accuracy: 0.9571 - val_loss: 0.2117 - val_accuracy: 0.9444\n",
            "Epoch 18/30\n",
            "5/5 [==============================] - 0s 93ms/step - loss: 0.1324 - accuracy: 0.9714 - val_loss: 0.2071 - val_accuracy: 0.9444\n",
            "Epoch 19/30\n",
            "5/5 [==============================] - 0s 93ms/step - loss: 0.1056 - accuracy: 0.9857 - val_loss: 0.2019 - val_accuracy: 0.9444\n",
            "Epoch 20/30\n",
            "5/5 [==============================] - 0s 93ms/step - loss: 0.0997 - accuracy: 0.9857 - val_loss: 0.1833 - val_accuracy: 0.9444\n",
            "Epoch 21/30\n",
            "5/5 [==============================] - 0s 94ms/step - loss: 0.0895 - accuracy: 0.9929 - val_loss: 0.1915 - val_accuracy: 0.9167\n",
            "Epoch 22/30\n",
            "5/5 [==============================] - 0s 92ms/step - loss: 0.0725 - accuracy: 1.0000 - val_loss: 0.1577 - val_accuracy: 0.9722\n",
            "Epoch 23/30\n",
            "5/5 [==============================] - 0s 93ms/step - loss: 0.0738 - accuracy: 1.0000 - val_loss: 0.1527 - val_accuracy: 0.9722\n",
            "Epoch 24/30\n",
            "5/5 [==============================] - 0s 94ms/step - loss: 0.0595 - accuracy: 1.0000 - val_loss: 0.1540 - val_accuracy: 0.9444\n",
            "Epoch 25/30\n",
            "5/5 [==============================] - 0s 94ms/step - loss: 0.0563 - accuracy: 1.0000 - val_loss: 0.1647 - val_accuracy: 0.9444\n",
            "Epoch 26/30\n",
            "5/5 [==============================] - 0s 96ms/step - loss: 0.0490 - accuracy: 1.0000 - val_loss: 0.1485 - val_accuracy: 0.9444\n",
            "Epoch 27/30\n",
            "5/5 [==============================] - 0s 93ms/step - loss: 0.0453 - accuracy: 1.0000 - val_loss: 0.1562 - val_accuracy: 0.9444\n",
            "Epoch 28/30\n",
            "5/5 [==============================] - 0s 96ms/step - loss: 0.0407 - accuracy: 1.0000 - val_loss: 0.1663 - val_accuracy: 0.9444\n",
            "Epoch 29/30\n",
            "5/5 [==============================] - 0s 91ms/step - loss: 0.0367 - accuracy: 1.0000 - val_loss: 0.1538 - val_accuracy: 0.9444\n",
            "Epoch 30/30\n",
            "5/5 [==============================] - 0s 93ms/step - loss: 0.0337 - accuracy: 1.0000 - val_loss: 0.1435 - val_accuracy: 0.9444\n",
            "Test loss: 0.28552544116973877\n",
            "Test accuracy: 0.9090909361839294\n"
          ]
        },
        {
          "output_type": "display_data",
          "data": {
            "text/plain": [
              "<Figure size 576x288 with 2 Axes>"
            ],
            "image/png": "[encoded data removed]"
          },
          "metadata": {
            "needs_background": "light"
          }
        }
      ]
    },
    {
      "cell_type": "code",
      "source": [
        ""
      ],
      "metadata": {
        "id": "oKAw2nh6vjvJ"
      },
      "execution_count": 14,
      "outputs": []
    },
    {
      "cell_type": "code",
      "source": [
        ""
      ],
      "metadata": {
        "id": "2rek4p1IQPWc"
      },
      "execution_count": null,
      "outputs": []
    }
  ]
}
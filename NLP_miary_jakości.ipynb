{
  "nbformat": 4,
  "nbformat_minor": 0,
  "metadata": {
    "colab": {
      "name": "NLP_miary_jakości.ipynb",
      "provenance": [],
      "collapsed_sections": []
    },
    "kernelspec": {
      "name": "python3",
      "display_name": "Python 3"
    },
    "language_info": {
      "name": "python"
    }
  },
  "cells": [
    {
      "cell_type": "code",
      "source": [
        "import numpy as np\n",
        "import pandas as pd\n",
        "import matplotlib.pyplot as plt"
      ],
      "metadata": {
        "id": "UXNeeNqwP6tW"
      },
      "execution_count": null,
      "outputs": []
    },
    {
      "cell_type": "code",
      "execution_count": null,
      "metadata": {
        "colab": {
          "base_uri": "https://localhost:8080/"
        },
        "id": "uy9oI8lPOY32",
        "outputId": "8690018a-59a6-4575-eeb2-f3703dc8a56d"
      },
      "outputs": [
        {
          "output_type": "stream",
          "name": "stdout",
          "text": [
            "fatal: destination path 'uczenie-maszynowe-2021-22' already exists and is not an empty directory.\n"
          ]
        }
      ],
      "source": [
        "!git clone https://github.com/akalinow/uczenie-maszynowe-2021-22\n",
        "df = pd.read_csv(\"uczenie-maszynowe-2021-22/dane/reg_log_data.txt\", encoding='latin-1', sep=\",\", names=[\"matematyka\", \"biologia\", \"wynik\"])"
      ]
    },
    {
      "cell_type": "code",
      "source": [
        "X = df.iloc[:,[0,1]].to_numpy()\n",
        "Y = df.iloc[:,2].to_numpy()\n",
        "N=len(X)"
      ],
      "metadata": {
        "id": "quGNHBjTQEwX"
      },
      "execution_count": null,
      "outputs": []
    },
    {
      "cell_type": "code",
      "source": [
        "# Data standarization\n",
        "def standarize_data(data):\n",
        "    '''\n",
        "    process of rescaling the values so that \n",
        "    they have mean=0 and variance=1\n",
        "    '''\n",
        "    return (data - np.mean(data)) / np.std(data)\n",
        "\n",
        "# Data normalization (Min-Max scaling)\n",
        "def normalize_data(data):\n",
        "    '''\n",
        "    process of rescaling the values so that\n",
        "    they end up ranging between 0 and 1. \n",
        "    '''\n",
        "    return (data - np.min(data)) / (np.max(data) - np.min(data))\n",
        "\n",
        "# DATASET\n",
        "# import external data\n",
        "data = pd.read_csv('marks.txt', header=None)\n",
        "X = data.iloc[:,[0,1]].to_numpy()\n",
        "\n",
        "# rescaling values:\n",
        "X = standarize_data(X) # try also normalize_data(X)\n",
        "\n",
        "N = len(X) # size of data\n",
        "\n",
        "# Labels for each X(i)\n",
        "Y = data.iloc[:,2].to_numpy()\n",
        "\n",
        "# FUNCTIONS\n",
        "# Nonlinear function\n",
        "def sigmoid(x):\n",
        "    return 1/(1 + np.exp(-x))\n",
        "\n",
        "# Loss function\n",
        "def J(Y, y_hat):\n",
        "    return -1/N*( np.dot(Y, np.log(y_hat)) + np.dot(1 - Y, np.log(1 - y_hat)) )\n",
        "\n",
        "# Forward pass\n",
        "def forward(W, B, predict=False):\n",
        "    z = np.dot(X, W) + B\n",
        "    y_hat = sigmoid(z)\n",
        "    if predict: \n",
        "        return y_hat    \n",
        "    # compute derivatives\n",
        "    D_J_z = y_hat - Y            # DJ/Dz = (DJ/Dy_hat)*(Dy_hat/Dz)\n",
        "    D_J_W = np.dot(X.T, D_J_z)   # DJ/DW = (DJ/Dy_hat)*(Dy_hat/Dz)*(Dz/DW)    \n",
        "    return D_J_W/N, sum(D_J_z)/N # Note: DJ/DB = (DJ/Dz)*1\n",
        "\n",
        "# Fit the model to data (Backpropagation)\n",
        "def fit(W, B, LR, epochs):    \n",
        "    for i in range(1, epochs+1):        \n",
        "        D_W, D_B = forward(W, B)        \n",
        "        # update weights:        \n",
        "        W = W - D_W*LR\n",
        "        B = B - D_B*LR\n",
        "        # update loss and accuracy:\n",
        "        if i%100 == 0: # every 100th iteration\n",
        "            y_hat = forward(W, B, predict=True)\n",
        "            acc = sum((y_hat>=0.5) == Y)/N\n",
        "            loss = J(Y, y_hat)\n",
        "            # save to history\n",
        "            loss_history.append(loss)\n",
        "            acc_history.append(acc)\n",
        "    return W, B\n",
        "\n",
        "# MAIN\n",
        "# Parameters\n",
        "LR = 0.01 \n",
        "epochs = 800 \n",
        "\n",
        "# Initialize randomly the learning parameters\n",
        "B = np.random.normal(0, 1, (1,)) # Bias\n",
        "W = np.random.normal(0, 1, (2,)) # Weights\n",
        "\n",
        "# Save error and accuracy history\n",
        "loss_history = []\n",
        "acc_history = []\n",
        "\n",
        "# Learning process\n",
        "W, B = fit(W, B, LR, epochs)\n",
        "\n",
        "# predict final results\n",
        "y_hat = forward(W, B, predict=True)\n",
        "print(\"done\")    "
      ],
      "metadata": {
        "colab": {
          "base_uri": "https://localhost:8080/"
        },
        "id": "GiNaPcsvQoCH",
        "outputId": "785bfe08-84da-48d3-8b33-a23ab8396891"
      },
      "execution_count": null,
      "outputs": [
        {
          "output_type": "stream",
          "name": "stdout",
          "text": [
            "done\n"
          ]
        }
      ]
    },
    {
      "cell_type": "code",
      "source": [
        "# PLOT LOSS AND ACCURACY HISTORY\n",
        "def plot_loss_accuracy(loss_history, acc_history):\n",
        "    fig = plt.figure(figsize=(8, 4))\n",
        "    fig.suptitle('Log Loss and Accuracy over iterations')\n",
        "    \n",
        "    # add_subplot(nrows, ncolumns, index)\n",
        "    ax = fig.add_subplot(1, 2, 1)\n",
        "    ax.plot(loss_history)\n",
        "    ax.grid(True)\n",
        "    ax.set(xlabel='Iterations', title='Log Loss')\n",
        "    \n",
        "    ax = fig.add_subplot(1, 2, 2)\n",
        "    ax.plot(acc_history)\n",
        "    ax.grid(True)\n",
        "    ax.set(xlabel='Iterations', title='Accuracy')\n",
        "\n",
        "# PLOT PREDICTIONS\n",
        "def plot_predictions(TP, TN, FP, FN):\n",
        "    fig = plt.figure(figsize=(8, 5))\n",
        "    # PLOT THE MODEL\n",
        "    ax = fig.add_subplot(1, 1, 1)    \n",
        "    x = np.linspace(np.min(X), np.max(X), 100)\n",
        "    y = (-B[0] - W[0]*x) / W[1] # m*x + b\n",
        "    ax.plot(x, y, label='model')\n",
        "\n",
        "    # True predictions\n",
        "    ax.scatter(TP[:, 0], TP[:, 1], label=\"True Positives\", c='b')\n",
        "    ax.scatter(TN[:, 0], TN[:, 1], label=\"True Negatives\", c='r')\n",
        "    # False predictions\n",
        "    ax.scatter(FP[:, 0], FP[:, 1], label=\"False Positives\", c='y')\n",
        "    ax.scatter(FN[:, 0], FN[:, 1], label=\"False Negatives\", c='g')\n",
        "    ax.legend() \n",
        "    #plt.show()\n",
        "    \n",
        "# F BETA SCORE\n",
        "def F_beta_score(b, p, r):\n",
        "    return (1 + b**2) * ((p*r) / ((b**2 * p) + r))\n",
        "\n",
        "# PRINT ERROR/EVALUATION METRICS\n",
        "def metrics(TP, TN, FP, FN):\n",
        "    # Confusion matrix\n",
        "    M = np.array([[len(TP), len(FN)], \n",
        "                  [len(FP), len(TN)]])\n",
        "\n",
        "    # Error metrics\n",
        "    accuracy = sum(np.diag(M))/N\n",
        "    precision = M[0][0]/sum(M[:,0])\n",
        "    recall = M[0][0]/sum(M[0,:])\n",
        "\n",
        "    print(M)\n",
        "    print(\"accuracy =\", accuracy)\n",
        "    print(\"precision =\", precision)\n",
        "    print(\"recall =\", recall)\n",
        "    print('F(1) score = ', F_beta_score(1, precision, recall))\n",
        "    print('F(0.5) score = ', F_beta_score(0.5, precision, recall))\n",
        "    print('F(2) score = ', F_beta_score(2, precision, recall))\n",
        "\n",
        "# PREDICTIONS\n",
        "pred1 = (y_hat >= 0.5) # True if predicted as 1\n",
        "pred0 = (y_hat < 0.5)  # True if predicted as 0\n",
        "\n",
        "TP = X[pred1 & (Y==1), :] # True positives\n",
        "TN = X[pred0 & (Y==0), :] # True negatives\n",
        "FP = X[pred1 & (Y==0), :] # False positives\n",
        "FN = X[pred0 & (Y==1), :] # False negatives\n",
        "\n",
        "# Display metrics\n",
        "metrics(TP, TN, FP, FN)\n",
        "plot_predictions(TP, TN, FP, FN)    \n",
        "plot_loss_accuracy(loss_history, acc_history)"
      ],
      "metadata": {
        "id": "2UW0ODkbbFsd",
        "colab": {
          "base_uri": "https://localhost:8080/",
          "height": 761
        },
        "outputId": "cd965191-4189-4d25-8d78-de1f139fb453"
      },
      "execution_count": null,
      "outputs": [
        {
          "output_type": "stream",
          "name": "stdout",
          "text": [
            "[[54  6]\n",
            " [ 4 36]]\n",
            "accuracy = 0.9\n",
            "precision = 0.9310344827586207\n",
            "recall = 0.9\n",
            "F(1) score =  0.9152542372881356\n",
            "F(0.5) score =  0.9246575342465755\n",
            "F(2) score =  0.906040268456376\n"
          ]
        },
        {
          "output_type": "display_data",
          "data": {
            "text/plain": [
              "<Figure size 576x360 with 1 Axes>"
            ],
            "image/png": "[encoded data removed]"
          },
          "metadata": {
            "needs_background": "light"
          }
        },
        {
          "output_type": "display_data",
          "data": {
            "text/plain": [
              "<Figure size 576x288 with 2 Axes>"
            ],
            "image/png": "[encoded data removed]"
          },
          "metadata": {
            "needs_background": "light"
          }
        }
      ]
    },
    {
      "cell_type": "code",
      "source": [
        ""
      ],
      "metadata": {
        "id": "Q1OUVIU2YM08"
      },
      "execution_count": null,
      "outputs": []
    }
  ]
}
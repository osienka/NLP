{
  "nbformat": 4,
  "nbformat_minor": 0,
  "metadata": {
    "colab": {
      "name": "NLP_LogisticRegression.ipynb",
      "provenance": [],
      "collapsed_sections": []
    },
    "kernelspec": {
      "name": "python3",
      "display_name": "Python 3"
    },
    "language_info": {
      "name": "python"
    }
  },
  "cells": [
    {
      "cell_type": "code",
      "execution_count": null,
      "metadata": {
        "id": "VZWojdq5L5k0"
      },
      "outputs": [],
      "source": [
        "import numpy as np\n",
        "import matplotlib.pyplot as plt\n",
        "\n",
        "#DATASET\n",
        "X = np.array([[4,3],[1,2],[2,0],[2,1],[4,1],[3,0],[2,3],[1,0],[2,4],[3,2]])\n",
        "N = len(X)\n",
        "Y = np.array([1,0,0,0,1,0,1,0,1,1])"
      ]
    },
    {
      "cell_type": "code",
      "source": [
        "from pyparsing.util import LRUMemo\n",
        "def sigmoid(z):\n",
        "    return 1/(1 + np.exp(-z))\n",
        "\n",
        "# error function\n",
        "def J(Y, y_hat):\n",
        "    return -1/N * ( np.dot(Y, np.log(y_hat)) + np.dot((1 - Y), np.log(1 - y_hat)) )\n",
        "\n",
        "# forward pass\n",
        "def forward(W, B):\n",
        "    z = np.dot(X, W) + B\n",
        "    y_hat = sigmoid(z)\n",
        "    # compute derivatives\n",
        "    D_z = y_hat - Y # derivative wrt z (derivative wrt B)\n",
        "    D_W = np.dot(X.T, D_z) # derivative wrt W\n",
        "    \n",
        "    return D_W/N, sum(D_z)/N\n",
        "\n",
        "# fit the model to data (backpropagation)\n",
        "def fit(W, B, LR, epochs):\n",
        "    for i in range(epochs):\n",
        "        D_W, D_B = forward(W, B)\n",
        "        # update weights\n",
        "        W -= D_W*LR\n",
        "        B -= D_B*LR\n",
        "    return W,B\n",
        "\n",
        "\n",
        "\n",
        "# Parameters\n",
        "LR = 0.4\n",
        "epochs = 1000\n",
        "\n",
        "# Initialize weights randomly\n",
        "B = np.random.normal(0, 1, (1,)) # B = [a]\n",
        "W = np.random.normal(0, 1, (2,)) # W = [a, b]\n",
        "\n",
        "print('Error (before) =', J(Y, sigmoid(np.dot(X, W) + B)))\n",
        "print('Result: slope and interceptor')\n",
        "W, B = fit(W, B, LR, epochs)\n",
        "# slope and the interceptor\n",
        "m = -W[0]/W[1]\n",
        "b = -B[0]/W[1]\n",
        "print('m =', m, 'b =', b)\n",
        "print('Error (after) =', J(Y, sigmoid(np.dot(X, W) + B)))"
      ],
      "metadata": {
        "colab": {
          "base_uri": "https://localhost:8080/"
        },
        "id": "W5N7j0WhWLvD",
        "outputId": "f5e52643-3ea2-4daf-a76c-beb70f13fa5d"
      },
      "execution_count": null,
      "outputs": [
        {
          "output_type": "stream",
          "name": "stdout",
          "text": [
            "Error (before) = 0.3863246889545233\n",
            "Result: slope and interceptor\n",
            "m = -0.9233050173935627 b = 3.721434011295312\n",
            "Error (after) = 0.040890634351217925\n"
          ]
        }
      ]
    },
    {
      "cell_type": "code",
      "source": [
        "# PLOT DATA\n",
        "x = np.linspace(0,5,100)\n",
        "y = m*x + b\n",
        "plt.plot(x, y, label='model')\n",
        "spam = [(X[i][0], X[i][1]) for i in range(N) if Y[i] == 1]\n",
        "nospam = [(X[i][0], X[i][1]) for i in range(N) if Y[i] == 0]\n",
        "plt.scatter([s[0] for s in spam], [s[1] for s in spam], label='spam')\n",
        "plt.scatter([s[0] for s in nospam], [s[1] for s in nospam], label='not spam')\n",
        "plt.legend()\n",
        "plt.show()"
      ],
      "metadata": {
        "id": "oNo5UhnpcyIX",
        "colab": {
          "base_uri": "https://localhost:8080/",
          "height": 265
        },
        "outputId": "3e994770-410d-49ea-94fb-21cfe68fa2b4"
      },
      "execution_count": null,
      "outputs": [
        {
          "output_type": "display_data",
          "data": {
            "text/plain": [
              "<Figure size 432x288 with 1 Axes>"
            ],
            "image/png": "[encoded data removed]"
          },
          "metadata": {
            "needs_background": "light"
          }
        }
      ]
    },
    {
      "cell_type": "code",
      "source": [
        ""
      ],
      "metadata": {
        "id": "nqJm9DBtQYVj"
      },
      "execution_count": null,
      "outputs": []
    }
  ]
}
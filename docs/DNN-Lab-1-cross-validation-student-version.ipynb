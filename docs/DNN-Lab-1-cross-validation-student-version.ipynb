{
  "nbformat": 4,
  "nbformat_minor": 0,
  "metadata": {
    "kernelspec": {
      "name": "python3",
      "display_name": "Python 3"
    },
    "colab": {
      "provenance": []
    }
  },
  "cells": [
    {
      "cell_type": "markdown",
      "source": [
        "<center><img src='https://drive.google.com/uc?id=1_utx_ZGclmCwNttSe40kYA6VHzNocdET' height=\"60\"></center>\n",
        "\n",
        "AI TECH - Akademia Innowacyjnych Zastosowań Technologii Cyfrowych. Program Operacyjny Polska Cyfrowa na lata 2014-2020\n",
        "<hr>\n",
        "\n",
        "<center><img src='https://drive.google.com/uc?id=1BXZ0u3562N_MqCLcekI-Ens77Kk4LpPm'></center>\n",
        "\n",
        "<center>\n",
        "Projekt współfinansowany ze środków Unii Europejskiej w ramach Europejskiego Funduszu Rozwoju Regionalnego\n",
        "Program Operacyjny Polska Cyfrowa na lata 2014-2020,\n",
        "Oś Priorytetowa nr 3 \"Cyfrowe kompetencje społeczeństwa\" Działanie  nr 3.2 \"Innowacyjne rozwiązania na rzecz aktywizacji cyfrowej\"\n",
        "Tytuł projektu:  „Akademia Innowacyjnych Zastosowań Technologii Cyfrowych (AI Tech)”\n",
        "    </center>"
      ],
      "metadata": {
        "id": "Jrz1Kic6-keH"
      }
    },
    {
      "cell_type": "markdown",
      "metadata": {
        "id": "qMeI3m9u-ZBN"
      },
      "source": [
        "# Validation and cross-validation\n",
        "\n",
        "In this exercise you will implement a validation pipeline.\n",
        "\n",
        "At the end of the MSLE exercise you tested your model against the training and test datasets. As you should observe, there's a gap between the results. By validating your model, not only should you be able to anticipate the test time performance, but also have a method to compare different models.\n",
        "\n",
        "Implement the basic validation method, i.e. a random split. Test it with your model from Exercise MSLE."
      ]
    },
    {
      "cell_type": "code",
      "source": [
        "%matplotlib inline\n",
        "\n",
        "!wget -O mieszkania.csv https://www.dropbox.com/s/zey0gx91pna8irj/mieszkania.csv?dl=1\n",
        "!wget -O mieszkania_test.csv https://www.dropbox.com/s/dbrj6sbxb4ayqjz/mieszkania_test.csv?dl=1"
      ],
      "metadata": {
        "colab": {
          "base_uri": "https://localhost:8080/"
        },
        "id": "tMxpoCCqXXWZ",
        "outputId": "68bdf99b-eee5-4848-bac6-1634325aad87"
      },
      "execution_count": null,
      "outputs": [
        {
          "output_type": "stream",
          "name": "stdout",
          "text": [
            "--2022-10-09 20:16:01--  https://www.dropbox.com/s/zey0gx91pna8irj/mieszkania.csv?dl=1\n",
            "Resolving www.dropbox.com (www.dropbox.com)... 162.125.85.18, 2620:100:6035:18::a27d:5512\n",
            "Connecting to www.dropbox.com (www.dropbox.com)|162.125.85.18|:443... connected.\n",
            "HTTP request sent, awaiting response... 302 Found\n",
            "Location: /s/dl/zey0gx91pna8irj/mieszkania.csv [following]\n",
            "--2022-10-09 20:16:02--  https://www.dropbox.com/s/dl/zey0gx91pna8irj/mieszkania.csv\n",
            "Reusing existing connection to www.dropbox.com:443.\n",
            "HTTP request sent, awaiting response... 302 Found\n",
            "Location: https://uc644f0a4db0d2f717b59c6484de.dl.dropboxusercontent.com/cd/0/get/BuhR7dlXzBxdxB-0n-INwiJTlE2itDME5qslt-MuUwmxIvf2NXLaAm2orX6bJFxoiSiR0HEDO1p0picRPEBI9vQPgS4NozhT75zp1Ngt3B-b0kVOFJGN_QJoS9wWd2Uvbom3-5Vx0xFKkP6qYMNbp31v-rIZRsRxeWl8pZ-44ZQflg/file?dl=1# [following]\n",
            "--2022-10-09 20:16:02--  https://uc644f0a4db0d2f717b59c6484de.dl.dropboxusercontent.com/cd/0/get/BuhR7dlXzBxdxB-0n-INwiJTlE2itDME5qslt-MuUwmxIvf2NXLaAm2orX6bJFxoiSiR0HEDO1p0picRPEBI9vQPgS4NozhT75zp1Ngt3B-b0kVOFJGN_QJoS9wWd2Uvbom3-5Vx0xFKkP6qYMNbp31v-rIZRsRxeWl8pZ-44ZQflg/file?dl=1\n",
            "Resolving uc644f0a4db0d2f717b59c6484de.dl.dropboxusercontent.com (uc644f0a4db0d2f717b59c6484de.dl.dropboxusercontent.com)... 162.125.85.15, 2620:100:6035:15::a27d:550f\n",
            "Connecting to uc644f0a4db0d2f717b59c6484de.dl.dropboxusercontent.com (uc644f0a4db0d2f717b59c6484de.dl.dropboxusercontent.com)|162.125.85.15|:443... connected.\n",
            "HTTP request sent, awaiting response... 200 OK\n",
            "Length: 6211 (6.1K) [application/binary]\n",
            "Saving to: ‘mieszkania.csv’\n",
            "\n",
            "mieszkania.csv      100%[===================>]   6.07K  --.-KB/s    in 0s      \n",
            "\n",
            "2022-10-09 20:16:02 (748 MB/s) - ‘mieszkania.csv’ saved [6211/6211]\n",
            "\n",
            "--2022-10-09 20:16:02--  https://www.dropbox.com/s/dbrj6sbxb4ayqjz/mieszkania_test.csv?dl=1\n",
            "Resolving www.dropbox.com (www.dropbox.com)... 162.125.85.18, 2620:100:6035:18::a27d:5512\n",
            "Connecting to www.dropbox.com (www.dropbox.com)|162.125.85.18|:443... connected.\n",
            "HTTP request sent, awaiting response... 302 Found\n",
            "Location: /s/dl/dbrj6sbxb4ayqjz/mieszkania_test.csv [following]\n",
            "--2022-10-09 20:16:03--  https://www.dropbox.com/s/dl/dbrj6sbxb4ayqjz/mieszkania_test.csv\n",
            "Reusing existing connection to www.dropbox.com:443.\n",
            "HTTP request sent, awaiting response... 302 Found\n",
            "Location: https://uc765853dcd2ef0ba01353d9d9f9.dl.dropboxusercontent.com/cd/0/get/BugShunCUWq4We6VKpCEjbK6fo6l285AgihfisM5LQ3TRmtR1ErdCtZQiIPx0TiOADOfPbzRkV6sUKL_SGn2LGigW3sT4IO2b6x4WTjAF_zs5XSZ3juUWijLeudEeR-30MrthaSKGOVpHzRLJOLxrFj9GqlPWLPN4ejj6ZMGsvm69w/file?dl=1# [following]\n",
            "--2022-10-09 20:16:03--  https://uc765853dcd2ef0ba01353d9d9f9.dl.dropboxusercontent.com/cd/0/get/BugShunCUWq4We6VKpCEjbK6fo6l285AgihfisM5LQ3TRmtR1ErdCtZQiIPx0TiOADOfPbzRkV6sUKL_SGn2LGigW3sT4IO2b6x4WTjAF_zs5XSZ3juUWijLeudEeR-30MrthaSKGOVpHzRLJOLxrFj9GqlPWLPN4ejj6ZMGsvm69w/file?dl=1\n",
            "Resolving uc765853dcd2ef0ba01353d9d9f9.dl.dropboxusercontent.com (uc765853dcd2ef0ba01353d9d9f9.dl.dropboxusercontent.com)... 162.125.85.15, 2620:100:6035:15::a27d:550f\n",
            "Connecting to uc765853dcd2ef0ba01353d9d9f9.dl.dropboxusercontent.com (uc765853dcd2ef0ba01353d9d9f9.dl.dropboxusercontent.com)|162.125.85.15|:443... connected.\n",
            "HTTP request sent, awaiting response... 200 OK\n",
            "Length: 6247 (6.1K) [application/binary]\n",
            "Saving to: ‘mieszkania_test.csv’\n",
            "\n",
            "mieszkania_test.csv 100%[===================>]   6.10K  --.-KB/s    in 0s      \n",
            "\n",
            "2022-10-09 20:16:03 (719 MB/s) - ‘mieszkania_test.csv’ saved [6247/6247]\n",
            "\n"
          ]
        }
      ]
    },
    {
      "cell_type": "code",
      "source": [
        "def load(name: str) -> Tuple[np.ndarray, np.array]:\n",
        "    data = pd.read_csv(name)\n",
        "    x = data.loc[:, data.columns != 'cena'].to_numpy()\n",
        "    y = data['cena'].to_numpy()\n",
        "\n",
        "    return x, y"
      ],
      "metadata": {
        "id": "MNjo9j9EXD84"
      },
      "execution_count": null,
      "outputs": []
    },
    {
      "cell_type": "code",
      "source": [
        "x_train, y_train = load('mieszkania.csv')\n",
        "x_test, y_test = load('mieszkania_test.csv')"
      ],
      "metadata": {
        "id": "uoYy1AU5XD_e"
      },
      "execution_count": null,
      "outputs": []
    },
    {
      "cell_type": "code",
      "source": [
        "labelencoder = preprocessing.LabelEncoder()\n",
        "labelencoder.fit(x_train[:, 1])\n",
        "x_train[:, 1] = labelencoder.transform(x_train[:, 1])\n",
        "x_test[:, 1] = labelencoder.transform(x_test[:, 1])\n",
        "\n",
        "x_train = x_train.astype(np.float64)\n",
        "x_test = x_test.astype(np.float64)"
      ],
      "metadata": {
        "id": "qX2qTiVdXEEb"
      },
      "execution_count": null,
      "outputs": []
    },
    {
      "cell_type": "code",
      "metadata": {
        "id": "Ca0nRHYL-ZBR",
        "colab": {
          "base_uri": "https://localhost:8080/"
        },
        "outputId": "4703e4f5-333a-4a7c-8222-17f087c8c038"
      },
      "source": [
        "#######################################################\n",
        "# TODO: Implement the basic validation method,        #\n",
        "# compare MSLE on training, validation, and test sets #\n",
        "#######################################################\n"
      ],
      "execution_count": null,
      "outputs": [
        {
          "output_type": "stream",
          "name": "stderr",
          "text": [
            "/usr/local/lib/python3.7/dist-packages/ipykernel_launcher.py:16: DeprecationWarning: elementwise comparison failed; this will raise an error in the future.\n",
            "  app.launch_new_instance()\n"
          ]
        }
      ]
    },
    {
      "cell_type": "markdown",
      "metadata": {
        "id": "tnnf-KvC-ZBW"
      },
      "source": [
        "To make the random split validation reliable, a huge chunk of training data may be needed. To get over this problem, one may apply cross-validaiton.\n",
        "\n",
        "![alt-text](https://chrisjmccormick.files.wordpress.com/2013/07/10_fold_cv.png)"
      ]
    },
    {
      "cell_type": "markdown",
      "metadata": {
        "id": "sbu4F_h9-ZBX"
      },
      "source": [
        "Let's now implement the method. Make sure that:\n",
        "* number of partitions is a parameter,\n",
        "* the method is not limited to `mieszkania.csv`,\n",
        "* the method is not limited to one specific model."
      ]
    },
    {
      "cell_type": "code",
      "metadata": {
        "id": "dbfmYPOh-ZBY"
      },
      "source": [
        "####################################\n",
        "# TODO: Implement cross-validation #\n",
        "####################################"
      ],
      "execution_count": null,
      "outputs": []
    },
    {
      "cell_type": "markdown",
      "metadata": {
        "id": "sF2-UXXR-ZBc"
      },
      "source": [
        "Recall that sometimes validation may be tricky, e.g. significant class imbalance, having a small number of subjects, geographically clustered instances...\n",
        "\n",
        "What could in theory go wrong here with random, unstratified partitions? Think about potential solutions and investigate the data in order to check whether these problems arise here."
      ]
    },
    {
      "cell_type": "code",
      "metadata": {
        "id": "bt-y3kUy-ZBe"
      },
      "source": [
        "##############################\n",
        "# TODO: Investigate the data #\n",
        "##############################"
      ],
      "execution_count": null,
      "outputs": []
    },
    {
      "cell_type": "code",
      "source": [],
      "metadata": {
        "id": "tgavgEK4YZkr"
      },
      "execution_count": null,
      "outputs": []
    }
  ]
}
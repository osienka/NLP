{
  "nbformat": 4,
  "nbformat_minor": 0,
  "metadata": {
    "colab": {
      "name": "NLP_spam.ipynb",
      "provenance": [],
      "authorship_tag": "ABX9TyM1ttR6YZaqQPP2V2EKdUBi",
      "include_colab_link": true
    },
    "kernelspec": {
      "name": "python3",
      "display_name": "Python 3"
    },
    "language_info": {
      "name": "python"
    }
  },
  "cells": [
    {
      "cell_type": "markdown",
      "metadata": {
        "id": "view-in-github",
        "colab_type": "text"
      },
      "source": [
        "<a href=\"https://colab.research.google.com/github/osienka/NLP/blob/main/NLP_spam.ipynb\" target=\"_parent\"><img src=\"https://colab.research.google.com/assets/colab-badge.svg\" alt=\"Open In Colab\"/></a>"
      ]
    },
    {
      "cell_type": "code",
      "execution_count": 1,
      "metadata": {
        "id": "T1MS4k2ulkbk"
      },
      "outputs": [],
      "source": [
        "#importuję potrzebne funkcje i biblioteki. Zakomentowane linie można odkomentować, by pobrać potrzebne biblioteki\n",
        "import numpy as np\n",
        "import pandas as pd\n",
        "import matplotlib.pyplot as plt\n",
        "import seaborn as sns\n",
        "\n",
        "from sklearn.feature_extraction.text import TfidfVectorizer\n",
        "import re\n",
        "import string\n",
        "\n",
        "from sklearn.preprocessing import LabelEncoder\n",
        "from sklearn.feature_extraction.text import CountVectorizer\n",
        "from sklearn.model_selection import train_test_split \n",
        "from sklearn.naive_bayes import MultinomialNB\n",
        "from sklearn.svm import SVC\n",
        "import tensorflow as tf\n",
        "from keras.models import Sequential \n",
        "from keras.layers import Dense\n",
        "from sklearn.model_selection import GridSearchCV\n",
        "from sklearn.model_selection import RandomizedSearchCV\n",
        "import scipy.optimize as so\n",
        "from scipy.stats import multivariate_normal\n",
        "from sklearn.model_selection import cross_val_score\n",
        "from sklearn.metrics import f1_score\n",
        "from sklearn.metrics import accuracy_score, classification_report, confusion_matrix\n",
        "from sklearn.utils.class_weight import compute_sample_weight\n",
        "from sklearn import tree\n",
        "from sklearn.linear_model import LogisticRegression\n",
        "from sklearn.preprocessing import OrdinalEncoder\n",
        "def printScores(model, X, Y):\n",
        "    # użyj classification_report() żeby policzyć najpopularniejsze miary \n",
        "    print(\"Classification report:\")\n",
        "    print(classification_report(Y, model.predict(X)))\n",
        "    # wypisz macierz pomyłek \n",
        "    print(\"Confusion matrix:\")\n",
        "    print(confusion_matrix(Y, model.predict(X)))"
      ]
    },
    {
      "cell_type": "code",
      "source": [
        "from scipy.sparse import csr_matrix\n",
        "spam = pd.read_csv(\"spam.csv\")\n",
        "vectorizer = TfidfVectorizer()\n",
        "X = vectorizer.fit_transform(spam[\"text\"]).toarray()\n",
        "le = LabelEncoder()\n",
        "Y = le.fit_transform(spam[\"label\"])"
      ],
      "metadata": {
        "id": "wx8vuqq_rpw5"
      },
      "execution_count": 24,
      "outputs": []
    },
    {
      "cell_type": "code",
      "source": [
        "from sklearn.model_selection import train_test_split \n",
        "X_train, X_test, Y_train, Y_test = train_test_split(X,Y, test_size = 0.3)\n",
        "\n",
        "model = Sequential()\n",
        "model.add(Dense(1, input_dim=X.shape[1], activation=\"sigmoid\"))\n",
        "model.compile(loss=\"binary_crossentropy\", optimizer=\"adam\", metrics=[\"accuracy\"])\n",
        "\n",
        "mymodel = model.fit(X_train,Y_train, epochs=10,verbose=1, validation_split = 0.2)\n"
      ],
      "metadata": {
        "colab": {
          "base_uri": "https://localhost:8080/"
        },
        "id": "zY6eUeIrqphO",
        "outputId": "ce14603d-00cd-4f17-eb2b-b6114c70cbfb"
      },
      "execution_count": 25,
      "outputs": [
        {
          "output_type": "stream",
          "name": "stdout",
          "text": [
            "Epoch 1/10\n",
            "98/98 [==============================] - 1s 8ms/step - loss: 0.6540 - accuracy: 0.8462 - val_loss: 0.6134 - val_accuracy: 0.8731\n",
            "Epoch 2/10\n",
            "98/98 [==============================] - 0s 4ms/step - loss: 0.5803 - accuracy: 0.8651 - val_loss: 0.5485 - val_accuracy: 0.8744\n",
            "Epoch 3/10\n",
            "98/98 [==============================] - 0s 4ms/step - loss: 0.5199 - accuracy: 0.8673 - val_loss: 0.4958 - val_accuracy: 0.8756\n",
            "Epoch 4/10\n",
            "98/98 [==============================] - 0s 4ms/step - loss: 0.4702 - accuracy: 0.8696 - val_loss: 0.4529 - val_accuracy: 0.8769\n",
            "Epoch 5/10\n",
            "98/98 [==============================] - 0s 4ms/step - loss: 0.4293 - accuracy: 0.8715 - val_loss: 0.4175 - val_accuracy: 0.8808\n",
            "Epoch 6/10\n",
            "98/98 [==============================] - 0s 4ms/step - loss: 0.3953 - accuracy: 0.8750 - val_loss: 0.3884 - val_accuracy: 0.8833\n",
            "Epoch 7/10\n",
            "98/98 [==============================] - 0s 3ms/step - loss: 0.3666 - accuracy: 0.8811 - val_loss: 0.3639 - val_accuracy: 0.8859\n",
            "Epoch 8/10\n",
            "98/98 [==============================] - 0s 3ms/step - loss: 0.3421 - accuracy: 0.8849 - val_loss: 0.3430 - val_accuracy: 0.8897\n",
            "Epoch 9/10\n",
            "98/98 [==============================] - 0s 3ms/step - loss: 0.3210 - accuracy: 0.8907 - val_loss: 0.3250 - val_accuracy: 0.8910\n",
            "Epoch 10/10\n",
            "98/98 [==============================] - 0s 4ms/step - loss: 0.3024 - accuracy: 0.9006 - val_loss: 0.3093 - val_accuracy: 0.8936\n"
          ]
        }
      ]
    },
    {
      "cell_type": "code",
      "source": [
        ""
      ],
      "metadata": {
        "id": "OiZOnVTT2WPS"
      },
      "execution_count": null,
      "outputs": []
    }
  ]
}